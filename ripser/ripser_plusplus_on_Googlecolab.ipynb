{
  "cells": [
    {
      "cell_type": "markdown",
      "metadata": {
        "id": "pqvRQWDDkINa"
      },
      "source": [
        "# **Demo for Ripser++**"
      ]
    },
    {
      "cell_type": "code",
      "execution_count": 1,
      "metadata": {
        "id": "9s9u7oJOgi3N"
      },
      "outputs": [],
      "source": [
        "import ripserplusplus as rpp_py\n",
        "import numpy as np\n",
        "from tqdm import tqdm\n",
        "import sys\n",
        "from ripser import ripser\n",
        "import time"
      ]
    },
    {
      "cell_type": "markdown",
      "metadata": {
        "id": "mbpiLxpUkbTZ"
      },
      "source": [
        "benchmark: running ripser for 1000 iterations on random point clouds"
      ]
    },
    {
      "cell_type": "code",
      "execution_count": 74,
      "metadata": {},
      "outputs": [],
      "source": [
        "loaded_feat = np.load(\"../point_feat.npy\")"
      ]
    },
    {
      "cell_type": "code",
      "execution_count": 79,
      "metadata": {},
      "outputs": [
        {
          "data": {
            "text/plain": [
              "(128, 2892)"
            ]
          },
          "execution_count": 79,
          "metadata": {},
          "output_type": "execute_result"
        }
      ],
      "source": [
        "np.rot90(loaded_feat).shape"
      ]
    },
    {
      "cell_type": "code",
      "execution_count": 69,
      "metadata": {
        "colab": {
          "base_uri": "https://localhost:8080/"
        },
        "id": "PaCSXzf5hx4t",
        "outputId": "0c62e81c-a489-4d07-e2b8-4bdb14fedef7"
      },
      "outputs": [
        {
          "name": "stderr",
          "output_type": "stream",
          "text": [
            "100%|██████████| 1/1 [00:05<00:00,  5.89s/it]"
          ]
        },
        {
          "name": "stdout",
          "output_type": "stream",
          "text": [
            "{0: array([(0., 27.801607), (0., 27.84482 ), (0., 27.860586), (0., 27.860626),\n",
            "       (0., 27.869701), (0., 27.902737), (0., 27.90975 ), (0., 27.910511),\n",
            "       (0., 27.914692), (0., 27.916191), (0., 27.930342), (0., 27.945219),\n",
            "       (0., 27.952967), (0., 27.973494), (0., 27.979845), (0., 27.98257 ),\n",
            "       (0., 27.985033), (0., 27.986141), (0., 27.990541), (0., 27.993427),\n",
            "       (0., 27.996208), (0., 27.999119), (0., 28.001999), (0., 28.005724),\n",
            "       (0., 28.00789 ), (0., 28.010153), (0., 28.011435), (0., 28.013248),\n",
            "       (0., 28.015493), (0., 28.01918 ), (0., 28.022861), (0., 28.024988),\n",
            "       (0., 28.025322), (0., 28.026083), (0., 28.029894), (0., 28.032536),\n",
            "       (0., 28.036303), (0., 28.038513), (0., 28.03887 ), (0., 28.042221),\n",
            "       (0., 28.04291 ), (0., 28.044134), (0., 28.045353), (0., 28.045677),\n",
            "       (0., 28.046171), (0., 28.04706 ), (0., 28.050253), (0., 28.054739),\n",
            "       (0., 28.05775 ), (0., 28.059158), (0., 28.05984 ), (0., 28.059973),\n",
            "       (0., 28.0612  ), (0., 28.063866), (0., 28.063944), (0., 28.06555 ),\n",
            "       (0., 28.065582), (0., 28.068502), (0., 28.073929), (0., 28.07501 ),\n",
            "       (0., 28.07503 ), (0., 28.076063), (0., 28.078215), (0., 28.080404),\n",
            "       (0., 28.080702), (0., 28.081022), (0., 28.086071), (0., 28.086395),\n",
            "       (0., 28.087564), (0., 28.087769), (0., 28.08831 ), (0., 28.08914 ),\n",
            "       (0., 28.089884), (0., 28.091291), (0., 28.091854), (0., 28.094263),\n",
            "       (0., 28.094519), (0., 28.094877), (0., 28.095951), (0., 28.09607 ),\n",
            "       (0., 28.09658 ), (0., 28.097288), (0., 28.09846 ), (0., 28.098667),\n",
            "       (0., 28.099   ), (0., 28.09938 ), (0., 28.099588), (0., 28.101576),\n",
            "       (0., 28.101765), (0., 28.101828), (0., 28.101925), (0., 28.102032),\n",
            "       (0., 28.102945), (0., 28.103682), (0., 28.104427), (0., 28.104795),\n",
            "       (0., 28.105074), (0., 28.1064  ), (0., 28.108307), (0., 28.108957),\n",
            "       (0., 28.110283), (0., 28.110634), (0., 28.110662), (0., 28.113667),\n",
            "       (0., 28.116446), (0., 28.116604), (0., 28.117615), (0., 28.119713),\n",
            "       (0., 28.120548), (0., 28.124018), (0., 28.126099), (0., 28.126976),\n",
            "       (0., 28.127188), (0., 28.127243), (0., 28.128078), (0., 28.128138),\n",
            "       (0., 28.129118), (0., 28.129871), (0., 28.130198), (0., 28.131111),\n",
            "       (0., 28.13189 ), (0., 28.132133), (0., 28.132189), (0., 28.132391),\n",
            "       (0., 28.132647), (0., 28.134682), (0., 28.135262), (0., 28.136053),\n",
            "       (0., 28.136578), (0., 28.136827), (0., 28.136923), (0., 28.139698),\n",
            "       (0., 28.13972 ), (0., 28.139917), (0., 28.140987), (0., 28.141184),\n",
            "       (0., 28.141623), (0., 28.142149), (0., 28.142561), (0., 28.14333 ),\n",
            "       (0., 28.14407 ), (0., 28.144075), (0., 28.14487 ), (0., 28.145195),\n",
            "       (0., 28.14547 ), (0., 28.147112), (0., 28.147188), (0., 28.148499),\n",
            "       (0., 28.148552), (0., 28.14886 ), (0., 28.149221), (0., 28.150198),\n",
            "       (0., 28.150473), (0., 28.150517), (0., 28.15069 ), (0., 28.15074 ),\n",
            "       (0., 28.151348), (0., 28.151493), (0., 28.153288), (0., 28.153376),\n",
            "       (0., 28.153824), (0., 28.155506), (0., 28.155556), (0., 28.155796),\n",
            "       (0., 28.156683), (0., 28.15728 ), (0., 28.157558), (0., 28.15772 ),\n",
            "       (0., 28.159859), (0., 28.159895), (0., 28.160498), (0., 28.161228),\n",
            "       (0., 28.16167 ), (0., 28.161993), (0., 28.162   ), (0., 28.162195),\n",
            "       (0., 28.162323), (0., 28.162882), (0., 28.162989), (0., 28.163082),\n",
            "       (0., 28.163372), (0., 28.163431), (0., 28.164059), (0., 28.164248),\n",
            "       (0., 28.16565 ), (0., 28.165798), (0., 28.16727 ), (0., 28.16773 ),\n",
            "       (0., 28.168184), (0., 28.169586), (0., 28.169884), (0., 28.16992 ),\n",
            "       (0., 28.170137), (0., 28.171135), (0., 28.171194), (0., 28.172012),\n",
            "       (0., 28.172235), (0., 28.173016), (0., 28.17332 ), (0., 28.175108),\n",
            "       (0., 28.17712 ), (0., 28.17715 ), (0., 28.177702), (0., 28.17782 ),\n",
            "       (0., 28.178686), (0., 28.179516), (0., 28.179548), (0., 28.179564),\n",
            "       (0., 28.180082), (0., 28.180561), (0., 28.181107), (0., 28.18281 ),\n",
            "       (0., 28.182962), (0., 28.183216), (0., 28.18544 ), (0., 28.185791),\n",
            "       (0., 28.186434), (0., 28.186895), (0., 28.187185), (0., 28.187523),\n",
            "       (0., 28.189035), (0., 28.189577), (0., 28.190224), (0., 28.191092),\n",
            "       (0., 28.191645), (0., 28.191774), (0., 28.191967), (0., 28.192665),\n",
            "       (0., 28.19288 ), (0., 28.193727), (0., 28.193771), (0., 28.194906),\n",
            "       (0., 28.196087), (0., 28.196192), (0., 28.197618), (0., 28.197811),\n",
            "       (0., 28.198606), (0., 28.199045), (0., 28.19928 ), (0., 28.200266),\n",
            "       (0., 28.200722), (0., 28.201439), (0., 28.202412), (0., 28.202654),\n",
            "       (0., 28.202719), (0., 28.202799), (0., 28.203176), (0., 28.20391 ),\n",
            "       (0., 28.205193), (0., 28.205244), (0., 28.20531 ), (0., 28.205814),\n",
            "       (0., 28.206062), (0., 28.20645 ), (0., 28.206684), (0., 28.207518),\n",
            "       (0., 28.20901 ), (0., 28.209654), (0., 28.209724), (0., 28.209803),\n",
            "       (0., 28.210388), (0., 28.210943), (0., 28.211512), (0., 28.211561),\n",
            "       (0., 28.21163 ), (0., 28.212204), (0., 28.212816), (0., 28.213432),\n",
            "       (0., 28.213865), (0., 28.213871), (0., 28.214592), (0., 28.21472 ),\n",
            "       (0., 28.21517 ), (0., 28.215788), (0., 28.215889), (0., 28.217138),\n",
            "       (0., 28.21739 ), (0., 28.217737), (0., 28.21781 ), (0., 28.218323),\n",
            "       (0., 28.218552), (0., 28.218727), (0., 28.218843), (0., 28.219265),\n",
            "       (0., 28.219927), (0., 28.220985), (0., 28.22117 ), (0., 28.22133 ),\n",
            "       (0., 28.222273), (0., 28.222513), (0., 28.22252 ), (0., 28.22281 ),\n",
            "       (0., 28.223312), (0., 28.22348 ), (0., 28.225815), (0., 28.226099),\n",
            "       (0., 28.226326), (0., 28.226448), (0., 28.227781), (0., 28.228985),\n",
            "       (0., 28.229654), (0., 28.229721), (0., 28.230028), (0., 28.230476),\n",
            "       (0., 28.231697), (0., 28.232702), (0., 28.233116), (0., 28.23501 ),\n",
            "       (0., 28.235846), (0., 28.235868), (0., 28.23589 ), (0., 28.236584),\n",
            "       (0., 28.237003), (0., 28.238092), (0., 28.238157), (0., 28.238266),\n",
            "       (0., 28.2387  ), (0., 28.239212), (0., 28.239336), (0., 28.239885),\n",
            "       (0., 28.24058 ), (0., 28.240988), (0., 28.241316), (0., 28.242727),\n",
            "       (0., 28.24281 ), (0., 28.244923), (0., 28.244995), (0., 28.245243),\n",
            "       (0., 28.245531), (0., 28.247204), (0., 28.24784 ), (0., 28.248682),\n",
            "       (0., 28.249653), (0., 28.2503  ), (0., 28.251284), (0., 28.252089),\n",
            "       (0., 28.252686), (0., 28.253265), (0., 28.254065), (0., 28.254356),\n",
            "       (0., 28.254824), (0., 28.25555 ), (0., 28.255592), (0., 28.255928),\n",
            "       (0., 28.255936), (0., 28.259205), (0., 28.259277), (0., 28.259726),\n",
            "       (0., 28.260069), (0., 28.261625), (0., 28.261961), (0., 28.262138),\n",
            "       (0., 28.262379), (0., 28.26318 ), (0., 28.264168), (0., 28.265118),\n",
            "       (0., 28.265854), (0., 28.266384), (0., 28.268457), (0., 28.270756),\n",
            "       (0., 28.270775), (0., 28.271193), (0., 28.271378), (0., 28.271395),\n",
            "       (0., 28.272764), (0., 28.273094), (0., 28.273588), (0., 28.27361 ),\n",
            "       (0., 28.274466), (0., 28.274618), (0., 28.27474 ), (0., 28.274878),\n",
            "       (0., 28.274937), (0., 28.275402), (0., 28.276474), (0., 28.276794),\n",
            "       (0., 28.276867), (0., 28.277838), (0., 28.277891), (0., 28.278269),\n",
            "       (0., 28.280027), (0., 28.280083), (0., 28.280329), (0., 28.28064 ),\n",
            "       (0., 28.280645), (0., 28.280687), (0., 28.280735), (0., 28.281681),\n",
            "       (0., 28.282183), (0., 28.282211), (0., 28.28277 ), (0., 28.282835),\n",
            "       (0., 28.28514 ), (0., 28.285238), (0., 28.286852), (0., 28.286924),\n",
            "       (0., 28.288387), (0., 28.288446), (0., 28.288662), (0., 28.288803),\n",
            "       (0., 28.290087), (0., 28.29141 ), (0., 28.293049), (0., 28.29436 ),\n",
            "       (0., 28.29547 ), (0., 28.296494), (0., 28.296724), (0., 28.298113),\n",
            "       (0., 28.298264), (0., 28.298748), (0., 28.299099), (0., 28.299433),\n",
            "       (0., 28.300678), (0., 28.301062), (0., 28.301367), (0., 28.301569),\n",
            "       (0., 28.302166), (0., 28.30222 ), (0., 28.302298), (0., 28.302324),\n",
            "       (0., 28.302958), (0., 28.303003), (0., 28.304123), (0., 28.305725),\n",
            "       (0., 28.306105), (0., 28.306395), (0., 28.307253), (0., 28.307598),\n",
            "       (0., 28.310732), (0., 28.31074 ), (0., 28.31173 ), (0., 28.312866),\n",
            "       (0., 28.313616), (0., 28.3139  ), (0., 28.315557), (0., 28.315916),\n",
            "       (0., 28.316397), (0., 28.316677), (0., 28.317127), (0., 28.31791 ),\n",
            "       (0., 28.318874), (0., 28.318913), (0., 28.319574), (0., 28.321808),\n",
            "       (0., 28.321941), (0., 28.322037), (0., 28.322744), (0., 28.325684),\n",
            "       (0., 28.326101), (0., 28.331621), (0., 28.332302), (0., 28.332794),\n",
            "       (0., 28.334078), (0., 28.3343  ), (0., 28.336025), (0., 28.337343),\n",
            "       (0., 28.337593), (0., 28.338934), (0., 28.339817), (0., 28.341114),\n",
            "       (0., 28.342653), (0., 28.343405), (0., 28.344597), (0., 28.34489 ),\n",
            "       (0., 28.345966), (0., 28.346123), (0., 28.347847), (0., 28.35019 ),\n",
            "       (0., 28.35284 ), (0., 28.353373), (0., 28.353508), (0., 28.35352 ),\n",
            "       (0., 28.353792), (0., 28.357761), (0., 28.366133), (0., 28.366653),\n",
            "       (0., 28.367462), (0., 28.369253), (0., 28.370518), (0., 28.371511),\n",
            "       (0., 28.372599), (0., 28.373112), (0., 28.37628 ), (0., 28.377409),\n",
            "       (0., 28.381474), (0., 28.382668), (0., 28.3875  ), (0., 28.390718),\n",
            "       (0., 28.392868), (0., 28.39362 ), (0., 28.394447), (0., 28.396517),\n",
            "       (0., 28.396748), (0., 28.399958), (0., 28.405056), (0., 28.407047),\n",
            "       (0., 28.415842), (0., 28.416   ), (0., 28.427921), (0., 28.431381),\n",
            "       (0., 28.433023), (0., 28.43361 ), (0., 28.444998), (0., 28.44804 ),\n",
            "       (0., 28.448544), (0., 28.454908), (0., 28.461285), (0., 28.474165),\n",
            "       (0., 28.48118 ), (0., 28.488985), (0., 28.581875)],\n",
            "      dtype=[('birth', '<f4'), ('death', '<f4')]), 1: array([(28.657179, 28.657331), (28.648552, 28.65377 ),\n",
            "       (28.644434, 28.686464), ..., (28.109737, 28.35721 ),\n",
            "       (28.094599, 28.23172 ), (28.088964, 28.367907)],\n",
            "      dtype=[('birth', '<f4'), ('death', '<f4')]), 2: array([(28.777452, 28.779856), (28.757538, 28.76518 ),\n",
            "       (28.731049, 28.747307), ..., (28.337967, 28.42641 ),\n",
            "       (28.327559, 28.356693), (28.317963, 28.356693)],\n",
            "      dtype=[('birth', '<f4'), ('death', '<f4')])}\n",
            "\u001b[2K\u001b[1Gripser++ total time:  5.897409915924072\n"
          ]
        },
        {
          "name": "stderr",
          "output_type": "stream",
          "text": [
            "\n"
          ]
        }
      ],
      "source": [
        "start = time.time()\n",
        "num_iters= 1\n",
        "for i in tqdm(range(num_iters)):\n",
        "  d= rpp_py.run(\"--format point-cloud --dim 2\",np.rot90(loaded_feat))\n",
        "  if (i%100==0):\n",
        "    print(d)\n",
        "    sys.stdout.write('\\033[2K\\033[1G')\n",
        "end = time.time()\n",
        "print(\"ripser++ total time: \", end-start)\n"
      ]
    },
    {
      "cell_type": "code",
      "execution_count": 70,
      "metadata": {},
      "outputs": [
        {
          "data": {
            "text/plain": [
              "dict_keys([0, 1, 2])"
            ]
          },
          "execution_count": 70,
          "metadata": {},
          "output_type": "execute_result"
        }
      ],
      "source": [
        "d.keys()"
      ]
    },
    {
      "cell_type": "code",
      "execution_count": 71,
      "metadata": {},
      "outputs": [],
      "source": [
        "converted_dict = {key: np.array(value.tolist()) for key, value in d.items()}"
      ]
    },
    {
      "cell_type": "code",
      "execution_count": 72,
      "metadata": {},
      "outputs": [
        {
          "name": "stdout",
          "output_type": "stream",
          "text": [
            "[array([[ 0.        , 27.80160713],\n",
            "       [ 0.        , 27.84482002],\n",
            "       [ 0.        , 27.86058617],\n",
            "       ...,\n",
            "       [ 0.        , 28.48118019],\n",
            "       [ 0.        , 28.48898506],\n",
            "       [ 0.        , 28.58187485]]), array([[28.65717888, 28.65733147],\n",
            "       [28.64855194, 28.65377045],\n",
            "       [28.64443398, 28.68646431],\n",
            "       ...,\n",
            "       [28.1097374 , 28.35721016],\n",
            "       [28.09459877, 28.23171997],\n",
            "       [28.08896446, 28.36790657]]), array([[28.77745247, 28.77985573],\n",
            "       [28.75753784, 28.76518059],\n",
            "       [28.73104858, 28.74730682],\n",
            "       ...,\n",
            "       [28.33796692, 28.42641068],\n",
            "       [28.32755852, 28.35669327],\n",
            "       [28.31796265, 28.35669327]])]\n"
          ]
        }
      ],
      "source": [
        "converted_dict\n",
        "numpy_array_list = [converted_dict[key] for key in sorted(converted_dict.keys())]\n",
        "\n",
        "# Print the list of numpy arrays\n",
        "print(numpy_array_list)\n"
      ]
    },
    {
      "cell_type": "code",
      "execution_count": 73,
      "metadata": {},
      "outputs": [
        {
          "data": {
            "image/png": "[encoded data removed]",
            "text/plain": [
              "<Figure size 640x480 with 1 Axes>"
            ]
          },
          "metadata": {},
          "output_type": "display_data"
        }
      ],
      "source": [
        "import numpy as np\n",
        "from ripser import ripser\n",
        "from persim import plot_diagrams\n",
        "\n",
        "# data = np.random.random((100,2))\n",
        "# diagrams = ripser(data)['dgms']\n",
        "plot_diagrams(numpy_array_list, show=True)"
      ]
    },
    {
      "cell_type": "code",
      "execution_count": 34,
      "metadata": {},
      "outputs": [
        {
          "data": {
            "text/plain": [
              "array([[0.        , 0.00114648],\n",
              "       [0.        , 0.00453298],\n",
              "       [0.        , 0.00598529],\n",
              "       [0.        , 0.0110452 ],\n",
              "       [0.        , 0.0116432 ],\n",
              "       [0.        , 0.01458048],\n",
              "       [0.        , 0.02043275],\n",
              "       [0.        , 0.0206351 ],\n",
              "       [0.        , 0.02392698],\n",
              "       [0.        , 0.0252205 ],\n",
              "       [0.        , 0.02594887],\n",
              "       [0.        , 0.02734846],\n",
              "       [0.        , 0.027749  ],\n",
              "       [0.        , 0.02791019],\n",
              "       [0.        , 0.02801404],\n",
              "       [0.        , 0.02833246],\n",
              "       [0.        , 0.02891527],\n",
              "       [0.        , 0.03002   ],\n",
              "       [0.        , 0.03105431],\n",
              "       [0.        , 0.03132214],\n",
              "       [0.        , 0.03285612],\n",
              "       [0.        , 0.03340993],\n",
              "       [0.        , 0.03450326],\n",
              "       [0.        , 0.03466336],\n",
              "       [0.        , 0.03524663],\n",
              "       [0.        , 0.03897265],\n",
              "       [0.        , 0.03979081],\n",
              "       [0.        , 0.04078927],\n",
              "       [0.        , 0.04185746],\n",
              "       [0.        , 0.04260406],\n",
              "       [0.        , 0.0435404 ],\n",
              "       [0.        , 0.0464302 ],\n",
              "       [0.        , 0.04646943],\n",
              "       [0.        , 0.04670903],\n",
              "       [0.        , 0.04682245],\n",
              "       [0.        , 0.04740645],\n",
              "       [0.        , 0.05017161],\n",
              "       [0.        , 0.05120116],\n",
              "       [0.        , 0.05258882],\n",
              "       [0.        , 0.05360508],\n",
              "       [0.        , 0.05663968],\n",
              "       [0.        , 0.06101663],\n",
              "       [0.        , 0.06187212],\n",
              "       [0.        , 0.06221812],\n",
              "       [0.        , 0.0637645 ],\n",
              "       [0.        , 0.06460071],\n",
              "       [0.        , 0.06545059],\n",
              "       [0.        , 0.0665739 ],\n",
              "       [0.        , 0.06796199],\n",
              "       [0.        , 0.06898642],\n",
              "       [0.        , 0.06933041],\n",
              "       [0.        , 0.06956938],\n",
              "       [0.        , 0.07015613],\n",
              "       [0.        , 0.07054857],\n",
              "       [0.        , 0.07075286],\n",
              "       [0.        , 0.07110876],\n",
              "       [0.        , 0.07126766],\n",
              "       [0.        , 0.07403608],\n",
              "       [0.        , 0.07684524],\n",
              "       [0.        , 0.07696511],\n",
              "       [0.        , 0.07822199],\n",
              "       [0.        , 0.07942333],\n",
              "       [0.        , 0.08086738],\n",
              "       [0.        , 0.08345047],\n",
              "       [0.        , 0.08433643],\n",
              "       [0.        , 0.08566833],\n",
              "       [0.        , 0.08628754],\n",
              "       [0.        , 0.08824283],\n",
              "       [0.        , 0.08881219],\n",
              "       [0.        , 0.09012718],\n",
              "       [0.        , 0.09096578],\n",
              "       [0.        , 0.09269494],\n",
              "       [0.        , 0.09427274],\n",
              "       [0.        , 0.09473474],\n",
              "       [0.        , 0.0955895 ],\n",
              "       [0.        , 0.09726084],\n",
              "       [0.        , 0.09793972],\n",
              "       [0.        , 0.0999909 ],\n",
              "       [0.        , 0.10079196],\n",
              "       [0.        , 0.10107438],\n",
              "       [0.        , 0.10188712],\n",
              "       [0.        , 0.10231034],\n",
              "       [0.        , 0.10515442],\n",
              "       [0.        , 0.10565793],\n",
              "       [0.        , 0.10588038],\n",
              "       [0.        , 0.10630783],\n",
              "       [0.        , 0.10674275],\n",
              "       [0.        , 0.10742949],\n",
              "       [0.        , 0.10779413],\n",
              "       [0.        , 0.11058159],\n",
              "       [0.        , 0.11248262],\n",
              "       [0.        , 0.11621037],\n",
              "       [0.        , 0.11906523],\n",
              "       [0.        , 0.12860389],\n",
              "       [0.        , 0.13193828],\n",
              "       [0.        , 0.13292024],\n",
              "       [0.        , 0.14772286],\n",
              "       [0.        , 0.15128461],\n",
              "       [0.        , 0.159327  ],\n",
              "       [0.        ,        inf]])"
            ]
          },
          "execution_count": 34,
          "metadata": {},
          "output_type": "execute_result"
        }
      ],
      "source": [
        "diagrams[0]"
      ]
    },
    {
      "cell_type": "code",
      "execution_count": 46,
      "metadata": {},
      "outputs": [
        {
          "ename": "ValueError",
          "evalue": "setting an array element with a sequence. The requested array has an inhomogeneous shape after 1 dimensions. The detected shape was (3,) + inhomogeneous part.",
          "output_type": "error",
          "traceback": [
            "\u001b[0;31m---------------------------------------------------------------------------\u001b[0m",
            "\u001b[0;31mValueError\u001b[0m                                Traceback (most recent call last)",
            "Cell \u001b[0;32mIn[46], line 1\u001b[0m\n\u001b[0;32m----> 1\u001b[0m diagrams_pp \u001b[38;5;241m=\u001b[39m \u001b[43mnp\u001b[49m\u001b[38;5;241;43m.\u001b[39;49m\u001b[43marray\u001b[49m\u001b[43m(\u001b[49m\u001b[43m[\u001b[49m\u001b[43mnp\u001b[49m\u001b[38;5;241;43m.\u001b[39;49m\u001b[43marray\u001b[49m\u001b[43m(\u001b[49m\u001b[43md\u001b[49m\u001b[43m[\u001b[49m\u001b[38;5;241;43m0\u001b[39;49m\u001b[43m]\u001b[49m\u001b[43m)\u001b[49m\u001b[43m,\u001b[49m\u001b[43m \u001b[49m\u001b[43mnp\u001b[49m\u001b[38;5;241;43m.\u001b[39;49m\u001b[43marray\u001b[49m\u001b[43m(\u001b[49m\u001b[43md\u001b[49m\u001b[43m[\u001b[49m\u001b[38;5;241;43m1\u001b[39;49m\u001b[43m]\u001b[49m\u001b[43m)\u001b[49m\u001b[43m,\u001b[49m\u001b[43m \u001b[49m\u001b[43mnp\u001b[49m\u001b[38;5;241;43m.\u001b[39;49m\u001b[43marray\u001b[49m\u001b[43m(\u001b[49m\u001b[43md\u001b[49m\u001b[43m[\u001b[49m\u001b[38;5;241;43m2\u001b[39;49m\u001b[43m]\u001b[49m\u001b[43m)\u001b[49m\u001b[43m]\u001b[49m\u001b[43m)\u001b[49m\n",
            "\u001b[0;31mValueError\u001b[0m: setting an array element with a sequence. The requested array has an inhomogeneous shape after 1 dimensions. The detected shape was (3,) + inhomogeneous part."
          ]
        }
      ],
      "source": [
        "diagrams_pp = np.array([np.array(d[0]), np.array(d[1]), np.array(d[2])])"
      ]
    },
    {
      "cell_type": "code",
      "execution_count": 49,
      "metadata": {},
      "outputs": [
        {
          "data": {
            "text/plain": [
              "array([( 0.      , 21.244635), ( 0.      , 21.341366),\n",
              "       ( 0.      , 21.357424), ..., (21.575127, 21.821619),\n",
              "       (21.56001 , 21.846653), (21.523968, 21.866709)],\n",
              "      dtype=[('birth', '<f4'), ('death', '<f4')])"
            ]
          },
          "execution_count": 49,
          "metadata": {},
          "output_type": "execute_result"
        }
      ],
      "source": [
        "np.concatenate((np.array(d[0]), np.array(d[1])), axis=0)"
      ]
    },
    {
      "cell_type": "code",
      "execution_count": 37,
      "metadata": {},
      "outputs": [
        {
          "data": {
            "text/plain": [
              "array([(22.162924, 22.178892), (22.138027, 22.14451 ),\n",
              "       (22.121405, 22.199284), ..., (21.575127, 21.821619),\n",
              "       (21.56001 , 21.846653), (21.523968, 21.866709)],\n",
              "      dtype=[('birth', '<f4'), ('death', '<f4')])"
            ]
          },
          "execution_count": 37,
          "metadata": {},
          "output_type": "execute_result"
        }
      ],
      "source": [
        "d[1]"
      ]
    },
    {
      "cell_type": "code",
      "execution_count": null,
      "metadata": {},
      "outputs": [],
      "source": []
    }
  ],
  "metadata": {
    "accelerator": "GPU",
    "colab": {
      "name": "ripser-plusplus-on-Googlecolab.ipynb",
      "provenance": [],
      "toc_visible": true
    },
    "kernelspec": {
      "display_name": "PTv3_distill",
      "language": "python",
      "name": "python3"
    },
    "language_info": {
      "codemirror_mode": {
        "name": "ipython",
        "version": 3
      },
      "file_extension": ".py",
      "mimetype": "text/x-python",
      "name": "python",
      "nbconvert_exporter": "python",
      "pygments_lexer": "ipython3",
      "version": "3.8.20"
    }
  },
  "nbformat": 4,
  "nbformat_minor": 0
}
